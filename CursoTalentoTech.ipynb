{
  "nbformat": 4,
  "nbformat_minor": 0,
  "metadata": {
    "colab": {
      "provenance": [],
      "authorship_tag": "ABX9TyMj8Pxt0DWPVrZLJaFIJBOD",
      "include_colab_link": true
    },
    "kernelspec": {
      "name": "python3",
      "display_name": "Python 3"
    },
    "language_info": {
      "name": "python"
    }
  },
  "cells": [
    {
      "cell_type": "markdown",
      "metadata": {
        "id": "view-in-github",
        "colab_type": "text"
      },
      "source": [
        "<a href=\"https://colab.research.google.com/github/cadurango1/pruebas/blob/master/CursoTalentoTech.ipynb\" target=\"_parent\"><img src=\"https://colab.research.google.com/assets/colab-badge.svg\" alt=\"Open In Colab\"/></a>"
      ]
    },
    {
      "cell_type": "code",
      "execution_count": null,
      "metadata": {
        "id": "fLW7XJR4WcXK",
        "colab": {
          "base_uri": "https://localhost:8080/"
        },
        "outputId": "337771c6-7993-4bc4-c62f-f00107ea11b4"
      },
      "outputs": [
        {
          "output_type": "stream",
          "name": "stdout",
          "text": [
            "ingrese número uno: 10\n",
            "ingrese número dos: 5\n",
            "ingrese número tres: 6\n",
            "la cantidad de pares es:2\n",
            "la cantidad de impares es:1\n"
          ]
        }
      ],
      "source": [
        "# Leer 3 numeros y hallar cuántos números son pares y cuantos son impares\n",
        "n1=int(input(\"ingrese número uno: \"))\n",
        "n2=int(input(\"ingrese número dos: \"))\n",
        "n3=int(input(\"ingrese número tres: \"))\n",
        "\n",
        "#Inicializar las variables en 0\n",
        "contador_pares= 0\n",
        "contador_impares = 0\n",
        "\n",
        "#Proceso\n",
        "if n1% 2==0:\n",
        "    contador_pares=contador_pares+1\n",
        "elif n1% 2==1:\n",
        "    contador_impares=contador_impares+1\n",
        "\n",
        "if n2% 2==0:\n",
        "    contador_pares=contador_pares+1\n",
        "elif n2%2==1:\n",
        "    contador_impares=contador_impares+1\n",
        "\n",
        "if n3% 2==0:\n",
        "    contador_pares=contador_pares+1\n",
        "elif n3% 2==1:\n",
        "    contador_impares=contador_impares+1\n",
        "\n",
        "print(f\"la cantidad de pares es:{contador_pares}\")\n",
        "print(f\"la cantidad de impares es:{contador_impares}\")"
      ]
    },
    {
      "cell_type": "code",
      "source": [
        "# Realizar un algoritmo que me sume los números positivos\n",
        "n1=int(input(\"ingrese número uno \"))\n",
        "n2=int(input(\"ingrese número dos \"))\n",
        "n3=int(input(\"ingrese número tres \"))\n",
        "\n",
        "#acumulador=0\n",
        "acumulador=0\n",
        "\n",
        "if (n1>0):\n",
        "  acumulador=acumulador+n1\n",
        "\n",
        "if (n2>0):\n",
        "  acumulador=acumulador+n2\n",
        "\n",
        "if (n3>0):\n",
        "  acumulador=acumulador+n3\n",
        "\n",
        "print(f\"El valor acumulado es: {acumulador}\")\n"
      ],
      "metadata": {
        "colab": {
          "base_uri": "https://localhost:8080/"
        },
        "id": "HTSnBEA6G7LY",
        "outputId": "6db9a25d-4b2f-4d4e-cb84-506f4619ea8f"
      },
      "execution_count": null,
      "outputs": [
        {
          "output_type": "stream",
          "name": "stdout",
          "text": [
            "ingrese número uno 10\n",
            "ingrese número dos 5\n",
            "ingrese número tres 2\n",
            "El valor acumulado es: 17\n"
          ]
        }
      ]
    },
    {
      "cell_type": "code",
      "source": [
        "# Los Alumnos de un curso se han dividido en dos grupos A y B de acuerdo al sexo y el nombre.\n",
        "# El grupo A está formado por mujeres con un nombre anterior a la M y los hombres con un nombre posterior a la N\n",
        "# y el grupo B por el resto. Escribir un programa que pregunte al usuario su nombre y sexo,y muestr por pantalla el grupo al que le corresponde.\n",
        "\n",
        "nombre = input(\"Ingrese su nombre: \")\n",
        "sexo = input(\"Ingrese es tu sexo: \")\n",
        "if sexo == \"mujer\":\n",
        "    if nombre.lower() < \"m\":\n",
        "        grupo = \"A\"\n",
        "    else:\n",
        "        grupo = \"B\"\n",
        "else:\n",
        "    if nombre.lower() > \"n\":\n",
        "        grupo = \"A\"\n",
        "    else:\n",
        "        grupo = \"B\"\n",
        "print(\"Tu grupo es \" ,grupo)"
      ],
      "metadata": {
        "colab": {
          "base_uri": "https://localhost:8080/"
        },
        "id": "WmKBLGsiryy_",
        "outputId": "fdf60026-33de-4743-cbf4-f947899581fe"
      },
      "execution_count": null,
      "outputs": [
        {
          "output_type": "stream",
          "name": "stdout",
          "text": [
            "Ingrese su nombre: Anofeles\n",
            "Ingrese es tu sexo: mosquito\n",
            "Tu grupo es  B\n"
          ]
        }
      ]
    },
    {
      "cell_type": "markdown",
      "source": [
        "# **Ciclo Repetitivo**\n",
        "es algo que se repite varias veces usando alguna instrucción.\n",
        "El ciclo del programa podrá verificar varias veces por la instrucción dada.\n",
        "\n",
        "Ciclo **For**: es un ciclo repetitivo donde determinamos el número de iteración. desde donde empieza hasta donde termina. Cuántas veces se va a repetir.\n",
        "\n",
        "Ciclo **While** es un ciclo repetitivo que se determina mientras se cumpla una condición, ejemplo: va a repetir el ciclo hasta que se cumpla.\n",
        "\n"
      ],
      "metadata": {
        "id": "BICMA8F146wC"
      }
    },
    {
      "cell_type": "code",
      "source": [
        "# Ciclo For = para\n",
        "\n",
        "# Tomando un (punto de inicio,número de ciclos)\n",
        "for i in range(0,8):\n",
        "  print(\"i es igual a: \",i)\n",
        "\n",
        "#Se le adiciona una condición, (donde arranca, el numero de veces, escala)\n",
        "for i in range(0,10,3):\n",
        "  print(\"i2 es igual a: \",i)\n"
      ],
      "metadata": {
        "colab": {
          "base_uri": "https://localhost:8080/"
        },
        "id": "NfUtntrf6YOH",
        "outputId": "42156fb1-5915-45fe-832a-c3f9a93c9eb3"
      },
      "execution_count": null,
      "outputs": [
        {
          "output_type": "stream",
          "name": "stdout",
          "text": [
            "i es igual a:  0\n",
            "i es igual a:  1\n",
            "i es igual a:  2\n",
            "i es igual a:  3\n",
            "i es igual a:  4\n",
            "i es igual a:  5\n",
            "i es igual a:  6\n",
            "i es igual a:  7\n",
            "i2 es igual a:  0\n",
            "i2 es igual a:  3\n",
            "i2 es igual a:  6\n",
            "i2 es igual a:  9\n"
          ]
        }
      ]
    },
    {
      "cell_type": "code",
      "source": [
        "#Usar un ciclo repetitivo que me imprima la tabla del 2.\n",
        "\n",
        "for i in range (0,21):\n",
        "  print(f\"2x{i}={2*i}\")"
      ],
      "metadata": {
        "colab": {
          "base_uri": "https://localhost:8080/"
        },
        "id": "X3NTpG9K9BWO",
        "outputId": "e079f32b-4a18-4dbd-911d-1308430122e7"
      },
      "execution_count": null,
      "outputs": [
        {
          "output_type": "stream",
          "name": "stdout",
          "text": [
            "2x0=0\n",
            "2x1=2\n",
            "2x2=4\n",
            "2x3=6\n",
            "2x4=8\n",
            "2x5=10\n",
            "2x6=12\n",
            "2x7=14\n",
            "2x8=16\n",
            "2x9=18\n",
            "2x10=20\n",
            "2x11=22\n",
            "2x12=24\n",
            "2x13=26\n",
            "2x14=28\n",
            "2x15=30\n",
            "2x16=32\n",
            "2x17=34\n",
            "2x18=36\n",
            "2x19=38\n",
            "2x20=40\n"
          ]
        }
      ]
    },
    {
      "cell_type": "code",
      "source": [
        "# Utilizar un algortimo para hallar el promedio de 5 notas utilizando for\n",
        "\n",
        "acum = 0\n",
        "for i in range(0,5):\n",
        "  nota=float(input(\"ingrese nota: \"))\n",
        "  acum=acum+nota\n",
        "promedio=acum/5\n",
        "print(f\"el promedio es: {promedio}\")\n",
        "\n"
      ],
      "metadata": {
        "colab": {
          "base_uri": "https://localhost:8080/"
        },
        "id": "a_wrsulJEJ3z",
        "outputId": "30883fe1-9e71-4421-f71e-222269417347"
      },
      "execution_count": null,
      "outputs": [
        {
          "output_type": "stream",
          "name": "stdout",
          "text": [
            "ingrese nota: 3\n",
            "ingrese nota: 1\n",
            "ingrese nota: 2\n",
            "ingrese nota: 3\n",
            "ingrese nota: 4\n",
            "el promedio es: 2.6\n"
          ]
        }
      ]
    },
    {
      "cell_type": "code",
      "source": [
        "# hacer un algoritmo donde ingresen la cantidad y el precio unitario de n productos y al final me imprima el total de la compra\n",
        "\n",
        "compra=0\n",
        "n = int(input(\"Ingrese la cantidad de productos: \"))  # Preguntar por la cantidad de productos\n",
        "for i in range(n):\n",
        "  cantidad = int(input(f\"Ingrese la cantidad del producto {i+1}: \"))  # Obtener la cantidad de cada producto\n",
        "  precio = float(input(f\"Ingrese el precio unitario del producto {i+1}: $\"))  # Obtener el precio de cada producto\n",
        "  producto_total = cantidad * precio\n",
        "  compra = compra + producto_total\n",
        "  promedio = compra / n\n",
        "print(f\"el total de la compra es: ${compra}\")\n",
        "print(f\"el promedio de la compra es: ${promedio}\")\n",
        "\n"
      ],
      "metadata": {
        "colab": {
          "base_uri": "https://localhost:8080/"
        },
        "id": "QIOTe1NbHDvS",
        "outputId": "10b3626a-9958-44f6-bd76-3b0585fcb99f"
      },
      "execution_count": null,
      "outputs": [
        {
          "output_type": "stream",
          "name": "stdout",
          "text": [
            "Ingrese la cantidad de productos: 4\n",
            "Ingrese la cantidad del producto 1: 1\n",
            "Ingrese el precio unitario del producto 1: $2000\n",
            "Ingrese la cantidad del producto 2: 2\n",
            "Ingrese el precio unitario del producto 2: $2000\n",
            "Ingrese la cantidad del producto 3: 3\n",
            "Ingrese el precio unitario del producto 3: $2000\n",
            "Ingrese la cantidad del producto 4: 4\n",
            "Ingrese el precio unitario del producto 4: $2000\n",
            "el total de la compra es: $20000.0\n",
            "la cantidad de productos es: suma4\n",
            "la precio de productos es: suma2000.0\n",
            "el promedio de la compra es: $5000.0\n"
          ]
        }
      ]
    },
    {
      "cell_type": "code",
      "source": [
        "# Hacer un algoritmo de n interacciones o cantidad de números y hallar cuántos números son positivos, negativos y neutros\n",
        "\n",
        "numeros_positivos=0\n",
        "numeros_negativos=0\n",
        "numeros_neutro=0\n",
        "\n",
        "n=int(input(\"ingrese la cantidad de numeros: \")) #cantidad de numeros a ingresar\n",
        "\n",
        "for i in range(n):\n",
        "  numero=int(input(f\"ingrese el número:{i+1}: \"))\n",
        "\n",
        "  if numero>0:                                # Condicionales\n",
        "   numeros_positivos=numeros_positivos+1\n",
        "  elif numero<0:\n",
        "    numeros_negativos=numeros_negativos+1\n",
        "  else:\n",
        "    numeros_neutro=numeros_neutro+1\n",
        "\n",
        "print(f\"la cantidad de números positivos es: {numeros_positivos}\") #La impresion debe estar por fuera, porque sino se imprime en todos\n",
        "print(f\"la cantidad de números negativos es: {numeros_negativos}\")\n",
        "print(f\"la cantidad de números neutros es: {numeros_neutro}\")"
      ],
      "metadata": {
        "colab": {
          "base_uri": "https://localhost:8080/"
        },
        "id": "-LSrYSCpTXmN",
        "outputId": "52acb0f7-4965-4383-bcb0-6a905278925f"
      },
      "execution_count": null,
      "outputs": [
        {
          "output_type": "stream",
          "name": "stdout",
          "text": [
            "ingrese la cantidad de numeros: 4\n",
            "ingrese el número:1: 2\n",
            "ingrese el número:2: 3\n",
            "ingrese el número:3: 0\n",
            "ingrese el número:4: -1\n",
            "la cantidad de números positivos es: 2\n",
            "la cantidad de números negativos es: 1\n",
            "la cantidad de números neutros es: 1\n"
          ]
        }
      ]
    },
    {
      "cell_type": "code",
      "source": [
        "# Ejemplo de while Imprimir hasta que sea 6\n",
        "\n",
        "i = 0\n",
        "while i <= 6:\n",
        "  print(i)\n",
        "  i += 1"
      ],
      "metadata": {
        "colab": {
          "base_uri": "https://localhost:8080/"
        },
        "id": "ZQgyZcHUXt6u",
        "outputId": "f44e8ce5-2e4c-497a-e36e-aba2ecfff1a5"
      },
      "execution_count": null,
      "outputs": [
        {
          "output_type": "stream",
          "name": "stdout",
          "text": [
            "0\n",
            "1\n",
            "2\n",
            "3\n",
            "4\n",
            "5\n",
            "6\n"
          ]
        }
      ]
    },
    {
      "cell_type": "code",
      "source": [
        "# Realizar un algóritmo que acumule o sume mientras su total sea menor o igual a 100\n",
        "\n",
        "acum=0\n",
        "\n",
        "while acum<=100:\n",
        "  numero=int(input(\"ingrese el número: \"))\n",
        "  acum=acum+numero\n",
        "print(f\"la suma es: {acum}\")\n"
      ],
      "metadata": {
        "colab": {
          "base_uri": "https://localhost:8080/"
        },
        "id": "E9o9r2slYfgS",
        "outputId": "60f49716-60f9-453a-99de-79bdffff36cd"
      },
      "execution_count": null,
      "outputs": [
        {
          "output_type": "stream",
          "name": "stdout",
          "text": [
            "ingrese el número: 20\n",
            "ingrese el número: 20\n",
            "ingrese el número: 50\n",
            "ingrese el número: 20\n",
            "la suma es: 110\n"
          ]
        }
      ]
    },
    {
      "cell_type": "code",
      "source": [
        "# Hacer un algoritmo que lea n notas, y me imprima cuantos estudiantes aprobaron teniendo en cuenta que su nota debe ser mayor o igual a 3\n",
        "\n",
        "n=int(input(\"Ingrese número de notas a evaluar: \"))\n",
        "\n",
        "aprobaron=0                                   # Contadores en cero\n",
        "reprobaron=0\n",
        "\n",
        "i=1\n",
        "while i<=n:\n",
        "  nota=float(input(\"ingrese la nota: \"))\n",
        "  if nota>=3:                                # Condicionales\n",
        "    aprobaron=aprobaron+1\n",
        "  else:\n",
        "    reprobaron=reprobaron+1\n",
        "  i=i+1\n",
        "\n",
        "print(f\"la cantidad de alumnos que aprobaron es: {aprobaron}\") #La impresion debe estar por fuera, porque sino se imprime en todos\n",
        "print(f\"la cantidad de alumnos que no aprobaron es: {reprobaron}\")\n"
      ],
      "metadata": {
        "colab": {
          "base_uri": "https://localhost:8080/"
        },
        "id": "VI5Bj6w7D81-",
        "outputId": "67afeb54-91f0-4a87-e81f-cf1e8798c468"
      },
      "execution_count": null,
      "outputs": [
        {
          "output_type": "stream",
          "name": "stdout",
          "text": [
            "Ingrese número de notas a evaluar: 5\n",
            "ingrese la nota: 2\n",
            "ingrese la nota: 3\n",
            "ingrese la nota: 4\n",
            "ingrese la nota: 5\n",
            "ingrese la nota: 6\n",
            "la cantidad de alumnos que aprobaron es: 4\n",
            "la cantidad de alumnos que no aprobaron es: 1\n"
          ]
        }
      ]
    },
    {
      "cell_type": "code",
      "source": [
        "# hacer el ejercicio con for o while,\n",
        "# Necesitamos sabel el nivel de notas por estudiante:\n",
        "# de 0 a 1 = Deficiente\n",
        "# 1.1 a 2 = Insuficiente\n",
        "# 2.1 a 3 = Regular\n",
        "# de 3.1 a 4 = Aceptable\n",
        "# 4.1 a 4.9 = Muy bueno\n",
        "# 5 es excelente\n",
        "# A la final determinar cuantos estudiantes son deficientes, insuficientes, regular, aceptable, muy buenos y excelente.\n",
        "\n",
        "#for\n",
        "\n",
        "#Contadores\n",
        "Deficiente=0\n",
        "Insuficiente=0\n",
        "Regular=0\n",
        "Aceptable=0\n",
        "Muybueno=0\n",
        "Excelente=0\n",
        "\n",
        "n=int(input(\"Ingrese la cantidad de notas estudiante: \"))\n",
        "for i in range(n):\n",
        "  nota=float(input(f\"Ingrese la nota: {i+1} \"))\n",
        "  if(nota>=0 and nota<=1):\n",
        "    Deficiente=Deficiente+1\n",
        "  elif(nota>=1.1 and nota<=2):\n",
        "    Insuficiente=Insuficiente+1\n",
        "  elif(nota>=2.1 and nota<=3):\n",
        "    Regular=Regular+1\n",
        "  elif(nota>=3.1 and nota<=4):\n",
        "    Aceptable=Aceptable+1\n",
        "  elif(nota>=4.1 and nota<=4.9):\n",
        "    Muybueno=Muybueno+1\n",
        "  else:\n",
        "    Excelente=Excelente+1\n",
        "\n",
        "\n",
        "\n",
        "print(f\"la cantidad de estudiantes deficientes es: {Deficiente}\")\n",
        "print(f\"la cantidad de estudiantes insuficientes es: {Insuficiente}\")\n",
        "print(f\"la cantidad de estudiantes regulares es: {Regular}\")\n",
        "print(f\"la cantidad de estudiantes aceptable es: {Aceptable}\")\n",
        "print(f\"la cantidad de estudiantes muy bueno es: {Muybueno}\")\n",
        "print(f\"la cantidad de estudiantes excelente es: {Excelente}\")\n",
        "\n",
        "\n"
      ],
      "metadata": {
        "colab": {
          "base_uri": "https://localhost:8080/"
        },
        "id": "HtXEWMZgRmP5",
        "outputId": "bbfc63ef-0554-4657-b607-a76b5c9f1c90"
      },
      "execution_count": null,
      "outputs": [
        {
          "output_type": "stream",
          "name": "stdout",
          "text": [
            "Ingrese la cantidad de notas estudiante: 6\n",
            "Ingrese la nota: 1 0\n",
            "Ingrese la nota: 2 1.1\n",
            "Ingrese la nota: 3 2.1\n",
            "Ingrese la nota: 4 3.1\n",
            "Ingrese la nota: 5 4.5\n",
            "Ingrese la nota: 6 5\n",
            "la cantidad de estudiantes deficientes es: 1\n",
            "la cantidad de estudiantes insuficientes es: 1\n",
            "la cantidad de estudiantes regulares es: 1\n",
            "la cantidad de estudiantes aceptable es: 1\n",
            "la cantidad de estudiantes muy bueno es: 1\n",
            "la cantidad de estudiantes excelente es: 1\n"
          ]
        }
      ]
    },
    {
      "cell_type": "code",
      "source": [
        "#Contadores\n",
        "Deficiente=0\n",
        "Insuficiente=0\n",
        "Regular=0\n",
        "Aceptable=0\n",
        "Muybueno=0\n",
        "Excelente=0\n",
        "i=1\n",
        "\n",
        "n=int(input(\"Ingrese la cantidad de notas estudiante: \"))\n",
        "\n",
        "while (i<=n):\n",
        "  nota=float(input(f\"Ingrese la nota: {i}\"))\n",
        "  if(nota>=0 and nota<=1):\n",
        "    Deficiente=Deficiente+1\n",
        "  elif(nota>=1.1 and nota<=2):\n",
        "    Insuficiente=Insuficiente+1\n",
        "  elif(nota>=2.1 and nota<=3):\n",
        "    Regular=Regular+1\n",
        "  elif(nota>=3.1 and nota<=4):\n",
        "    Aceptable=Aceptable+1\n",
        "  elif(nota>=4.1 and nota<=4.9):\n",
        "    Muybueno=Muybueno+1\n",
        "  else:\n",
        "    Excelente=Excelente+1\n",
        "  i=i+1\n",
        "\n",
        "print(f\"la cantidad de estudiantes deficientes es: {Deficiente}\")\n",
        "print(f\"la cantidad de estudiantes insuficientes es: {Insuficiente}\")\n",
        "print(f\"la cantidad de estudiantes regulares es: {Regular}\")\n",
        "print(f\"la cantidad de estudiantes aceptable es: {Aceptable}\")\n",
        "print(f\"la cantidad de estudiantes muy bueno es: {Muybueno}\")\n",
        "print(f\"la cantidad de estudiantes excelente es: {Excelente}\")"
      ],
      "metadata": {
        "colab": {
          "base_uri": "https://localhost:8080/"
        },
        "id": "UvOsZQnTWimP",
        "outputId": "f643af2d-2002-4fec-e934-60258d95cae7"
      },
      "execution_count": null,
      "outputs": [
        {
          "output_type": "stream",
          "name": "stdout",
          "text": [
            "Ingrese la cantidad de notas estudiante: 5\n",
            "Ingrese la nota: 11\n",
            "Ingrese la nota: 22\n",
            "Ingrese la nota: 33\n",
            "Ingrese la nota: 44.5\n",
            "Ingrese la nota: 55\n",
            "la cantidad de estudiantes deficientes es: 1\n",
            "la cantidad de estudiantes insuficientes es: 1\n",
            "la cantidad de estudiantes regulares es: 1\n",
            "la cantidad de estudiantes aceptable es: 0\n",
            "la cantidad de estudiantes muy bueno es: 1\n",
            "la cantidad de estudiantes excelente es: 1\n"
          ]
        }
      ]
    },
    {
      "cell_type": "markdown",
      "source": [
        "**Estructuras de datos**\n",
        "\n",
        "Una estructura de datos es una forma más eficiente de organizar, leer e interpretar la información de los datos.\n",
        "\n",
        "Existen varios tipos de estructuras de datos:\n",
        "- Listas, se pueden modificar\n",
        "- tuplas, no se pueden modificar\n",
        "- Diccionarios\n",
        "\n",
        "En las librerías como Numpy y Pandas se manejan otro tipos de estructuras de datos como:\n",
        "- Arrays\n",
        "- DataFrames\n"
      ],
      "metadata": {
        "id": "W8F9CVnSSPqY"
      }
    },
    {
      "cell_type": "code",
      "source": [
        "# Tuplas: es una lista secuencial (que tiene un orden) de datos que no cambia.\n",
        "# string = texto\n",
        "\n",
        "#Definir la tupla\n",
        "mi_tupla = (1,2,3,'a','b','c')\n",
        "\n",
        "#Acceder al indice de la tupla\n",
        "print(mi_tupla[0])\n",
        "print(mi_tupla[1])\n",
        "print(mi_tupla[2])\n",
        "print(mi_tupla[3])\n",
        "print(mi_tupla[4])\n",
        "print(mi_tupla[5])\n",
        "\n",
        "# intentar modificar la tupla\n",
        "mi_tupla[0]=9\n"
      ],
      "metadata": {
        "colab": {
          "base_uri": "https://localhost:8080/"
        },
        "id": "-5rKVaz-Twie",
        "outputId": "eb9257cc-1e0c-4b5d-a359-6363164f1d89"
      },
      "execution_count": null,
      "outputs": [
        {
          "output_type": "stream",
          "name": "stdout",
          "text": [
            "(1, 2, 3, 'a', 'b', 'c')\n",
            "2\n",
            "3\n",
            "a\n",
            "b\n",
            "c\n"
          ]
        }
      ]
    },
    {
      "cell_type": "code",
      "source": [
        "#Listas: es parecida a la tupla, está organizada secuencialmente, en la cual los valores se pueden modificar y manipular\n",
        "\n",
        "#Definir la lista\n",
        "mi_lista = [1,2,3,'a','b','c']\n",
        "\n",
        "#Acceder a la lista\n",
        "print(mi_lista[0])\n",
        "print(mi_lista[1])\n",
        "print(mi_lista[2])\n",
        "print(mi_lista[3])\n",
        "print(mi_lista[4])\n",
        "print(mi_lista[5])\n",
        "print(mi_lista[0:6])\n",
        "\n",
        "#Modificar un elemento de la lista\n",
        "mi_lista[0]=10\n",
        "print(mi_lista[0])\n",
        "\n",
        "#Añadir un nuevo elemento a la lista\n",
        "mi_lista.append('d') #Inserta el valor al final\n",
        "mi_lista.insert(2,'e') #Inserta el valor en la posición\n",
        "print(mi_lista)\n",
        "\n",
        "#Eliminar elemento de la lista\n",
        "mi_lista.remove('e') #Remueve el valor de la lista\n",
        "print(mi_lista)\n"
      ],
      "metadata": {
        "colab": {
          "base_uri": "https://localhost:8080/"
        },
        "id": "homJJ8DgXByk",
        "outputId": "8d2a420e-8076-4793-e645-12bcd7312813"
      },
      "execution_count": null,
      "outputs": [
        {
          "output_type": "stream",
          "name": "stdout",
          "text": [
            "1\n",
            "2\n",
            "3\n",
            "a\n",
            "b\n",
            "c\n",
            "[1, 2, 3, 'a', 'b', 'c']\n",
            "10\n",
            "[10, 2, 'e', 3, 'a', 'b', 'c', 'd']\n",
            "[10, 2, 3, 'a', 'b', 'c', 'd']\n"
          ]
        }
      ]
    },
    {
      "cell_type": "code",
      "source": [
        "# Ejercicio:\n",
        "# Tenemos la siguiente lista:\n",
        "\n",
        "estudiantes = ['Maria', 'Paola', 'Esteban', 'Juan', 'Isabel']\n",
        "#Imprimir todos los estudiantes\n",
        "# Modificar a María por Karen\n",
        "# Agregar un nuevo estudiante a Pedro\n",
        "# Eliminar a Paola\n",
        "\n",
        "print(estudiantes) #Imprimen todos los estudiantes\n",
        "estudiantes[0]='Karen' #Con este se modifica María por Karen\n",
        "print(estudiantes)\n",
        "estudiantes.append('Pedro') #Con este se agrega pedro a la lista\n",
        "print(estudiantes)\n",
        "estudiantes.remove('Paola') #con este se elimina a Paola\n",
        "print(estudiantes)\n"
      ],
      "metadata": {
        "colab": {
          "base_uri": "https://localhost:8080/"
        },
        "id": "K4g9ZJEIbuR5",
        "outputId": "8ed2ca9f-552a-4d0b-c3a2-d1dada7bcb90"
      },
      "execution_count": null,
      "outputs": [
        {
          "output_type": "stream",
          "name": "stdout",
          "text": [
            "['Maria', 'Paola', 'Esteban', 'Juan', 'Isabel']\n",
            "['Karen', 'Paola', 'Esteban', 'Juan', 'Isabel']\n",
            "['Karen', 'Paola', 'Esteban', 'Juan', 'Isabel', 'Pedro']\n",
            "['Karen', 'Esteban', 'Juan', 'Isabel', 'Pedro']\n"
          ]
        }
      ]
    },
    {
      "cell_type": "code",
      "source": [
        "#Dicicionario de datos: Es una estructura manipulable y se expresa por clave y valor\n",
        "# Clave - Valor\n",
        "# Definir diccionario\n",
        "\n",
        "persona={'Juan':25, 'Maria':30, 'Pedro':35, 'Alvaro':34, 'Daniel':30, 'Ediccson':34}\n",
        "\n",
        "#Acceder a una clave del diccionario\n",
        "edad=persona['Maria']\n",
        "print('la edad de Maria es:', edad)\n",
        "\n",
        "#Añadir un nuevo elemento al diccionario\n",
        "persona['Luis']=28\n",
        "print(persona)\n",
        "\n",
        "#Modificar a un elemento del diccionario de datos\n",
        "persona['Juan']=40\n",
        "print(persona)\n",
        "\n",
        "#Eliminar a Ediccson\n",
        "persona.pop('Ediccson')\n",
        "print(persona)\n",
        "\n",
        "# Recorrer el diccionario a través de un ciclo\n",
        "for nombre, edad in persona.items():\n",
        "  print(nombre, 'tiene', edad, 'años')\n"
      ],
      "metadata": {
        "colab": {
          "base_uri": "https://localhost:8080/"
        },
        "id": "o54qN1KzfEv4",
        "outputId": "27d1e384-508d-4b16-c4b2-2936c765a4ef"
      },
      "execution_count": null,
      "outputs": [
        {
          "output_type": "stream",
          "name": "stdout",
          "text": [
            "la edad de Maria es: 30\n",
            "{'Juan': 25, 'Maria': 30, 'Pedro': 35, 'Alvaro': 34, 'Daniel': 30, 'Ediccson': 34, 'Luis': 28}\n",
            "{'Juan': 40, 'Maria': 30, 'Pedro': 35, 'Alvaro': 34, 'Daniel': 30, 'Ediccson': 34, 'Luis': 28}\n",
            "{'Juan': 40, 'Maria': 30, 'Pedro': 35, 'Alvaro': 34, 'Daniel': 30, 'Luis': 28}\n",
            "Juan tiene 40 años\n",
            "Maria tiene 30 años\n",
            "Pedro tiene 35 años\n",
            "Alvaro tiene 34 años\n",
            "Daniel tiene 30 años\n",
            "Luis tiene 28 años\n"
          ]
        }
      ]
    },
    {
      "cell_type": "code",
      "source": [
        "# Ejercicio\n",
        "# Ejercicio\n",
        "# Tenemos el siguiente diccionario de datos\n",
        "\n",
        "estudiantes2 = {'Luisa':3.0, 'Camilo':4.0, 'Mary':2.5, 'Jose':2.5, 'Leidy':5.0}\n",
        "\n",
        "# Saber la nota de Mary\n",
        "nota = estudiantes2['Mary']\n",
        "print('la nota de Mary es', nota)\n",
        "\n",
        "# Agregar un neuvo estudiante Estefanía con Nota 4.5\n",
        "estudiantes2['Estefania']=4.5\n",
        "print(estudiantes2)\n",
        "\n",
        "# Modificar a Luisa por 3.5\n",
        "estudiantes2['Luisa']=3.5\n",
        "print(estudiantes2)\n",
        "\n",
        "\n",
        "# Modificar la nota de Camilo y reemplazarla por 3.5\n",
        "estudiantes2['Camilo']=3.5\n",
        "print(estudiantes2)\n",
        "\n",
        "\n",
        "# Eliminar a Luisa\n",
        "estudiantes2.pop('Luisa')\n",
        "print(estudiantes2)\n",
        "\n",
        "# Recorrer el ciclo para saber las notas de cada estudiante\n",
        "for nombre, nota in estudiantes2.items():\n",
        "  print(nombre, 'sacó', nota)"
      ],
      "metadata": {
        "colab": {
          "base_uri": "https://localhost:8080/"
        },
        "id": "ulvRH5dIrcfX",
        "outputId": "ea6d584b-ea78-4367-908b-889f6b7eec3c"
      },
      "execution_count": null,
      "outputs": [
        {
          "output_type": "stream",
          "name": "stdout",
          "text": [
            "la nota de Mary es 2.5\n",
            "{'Luisa': 3.0, 'Camilo': 4.0, 'Mary': 2.5, 'Jose': 2.5, 'Leidy': 5.0, 'Estefania': 4.5}\n",
            "{'Luisa': 3.5, 'Camilo': 4.0, 'Mary': 2.5, 'Jose': 2.5, 'Leidy': 5.0, 'Estefania': 4.5}\n",
            "{'Luisa': 3.5, 'Camilo': 3.5, 'Mary': 2.5, 'Jose': 2.5, 'Leidy': 5.0, 'Estefania': 4.5}\n",
            "{'Camilo': 3.5, 'Mary': 2.5, 'Jose': 2.5, 'Leidy': 5.0, 'Estefania': 4.5}\n",
            "Camilo sacó 3.5\n",
            "Mary sacó 2.5\n",
            "Jose sacó 2.5\n",
            "Leidy sacó 5.0\n",
            "Estefania sacó 4.5\n"
          ]
        }
      ]
    },
    {
      "cell_type": "markdown",
      "source": [
        "**Ejercicios Python**"
      ],
      "metadata": {
        "id": "e5HQu4S9xm1i"
      }
    },
    {
      "cell_type": "code",
      "source": [
        "# lea 3 números y calcule el resultado de la suma\n",
        "\n",
        "#Entrada\n",
        "n1=int(input(\"ingrese número uno: \"))\n",
        "n2=int(input(\"ingrese número dos: \"))\n",
        "n3=int(input(\"ingrese número tres: \"))\n",
        "\n",
        "#Proceso\n",
        "suma=n1+n2+n3\n",
        "\n",
        "#Salida\n",
        "print(f\"el resultado de la suma es: {suma}\")\n"
      ],
      "metadata": {
        "colab": {
          "base_uri": "https://localhost:8080/"
        },
        "id": "0ZE7GydfxplE",
        "outputId": "2007721b-a7d3-45bb-ed95-0d1f38436274"
      },
      "execution_count": null,
      "outputs": [
        {
          "output_type": "stream",
          "name": "stdout",
          "text": [
            "ingrese número uno: 4\n",
            "ingrese número dos: 5\n",
            "ingrese número tres: 6\n",
            "el resultado de la suma es: 15\n"
          ]
        }
      ]
    },
    {
      "cell_type": "code",
      "source": [
        "# lea 2 números y calcule el resultado de la suma, resta, multiplicación y división\n",
        "\n",
        "#Entrada\n",
        "n1=int(input(\"ingrese número uno: \"))\n",
        "n2=int(input(\"ingrese número dos: \"))\n",
        "\n",
        "#Proceso\n",
        "suma=n1+n2\n",
        "resta=n1-n2\n",
        "multiplicacion=n1*n2\n",
        "division=n1/n2\n",
        "\n",
        "#Salida\n",
        "print(f\"el resultado de la suma es: {suma}\")\n",
        "print(f\"el resultado de la resta es: {resta}\")\n",
        "print(f\"el resultado de la multiplicación es: {multiplicacion}\")\n",
        "print(f\"el resultado de la división es: {division}\")"
      ],
      "metadata": {
        "colab": {
          "base_uri": "https://localhost:8080/"
        },
        "id": "4WFuEA_czSGs",
        "outputId": "b2f873d5-c3c9-4daf-e3e3-6a6f12d407a4"
      },
      "execution_count": null,
      "outputs": [
        {
          "output_type": "stream",
          "name": "stdout",
          "text": [
            "ingrese número uno: 4\n",
            "ingrese número dos: 2\n",
            "el resultado de la suma es: 6\n",
            "el resultado de la resta es: 2\n",
            "el resultado de la multiplicación es: 8\n",
            "el resultado de la división es: 2.0\n"
          ]
        }
      ]
    },
    {
      "cell_type": "code",
      "source": [
        "# Dados 3 notas de un aprendiz, calcul la definitica de la asignatura\n",
        "\n",
        "#Ingreso\n",
        "nota1=float(input(\"ingrese nota uno: \"))\n",
        "nota2=float(input(\"ingrese nota dos:\" ))\n",
        "nota3=float(input(\"ingrese nota tres: \"))\n",
        "\n",
        "#proceso\n",
        "definitiva= (nota1+nota2+nota3)/3\n",
        "\n",
        "#Salida\n",
        "print(f\"la nota definitiva es: {definitiva}\")\n",
        "\n"
      ],
      "metadata": {
        "colab": {
          "base_uri": "https://localhost:8080/"
        },
        "id": "F2FbeDMz1wAa",
        "outputId": "0414bdb8-bc37-4fc3-bd3e-ef5c6b168b57"
      },
      "execution_count": null,
      "outputs": [
        {
          "output_type": "stream",
          "name": "stdout",
          "text": [
            "ingrese nota uno: 3\n",
            "ingrese nota dos:3.3\n",
            "ingrese nota tres: 3.6\n",
            "la nota definitiva es: 3.3000000000000003\n"
          ]
        }
      ]
    },
    {
      "cell_type": "code",
      "source": [
        "# 4. Dadas las 3 notas de un aprendiz, calcule la nota definitiva de la asignatura asi: n1 20%, n2 30% y n3 50%\n",
        "\n",
        "#Entrada\n",
        "nota1=float(input(\"ingrese nota uno: \"))\n",
        "nota2=float(input(\"ingrese nota dos: \"))\n",
        "nota3=float(input(\"ingrese nota tres: \"))\n",
        "\n",
        "#Proceso\n",
        "Definitiva = (nota1*0.2) + (nota2*0.3) + (nota3*0.5)\n",
        "\n",
        "#Salida\n",
        "print(f\"la nota definitiva es: {Definitiva}\")\n",
        "\n",
        "\n"
      ],
      "metadata": {
        "colab": {
          "base_uri": "https://localhost:8080/"
        },
        "id": "IX1WFM0T3TjZ",
        "outputId": "b721377b-98e9-4557-9fb5-6ffe0b65d439"
      },
      "execution_count": null,
      "outputs": [
        {
          "output_type": "stream",
          "name": "stdout",
          "text": [
            "ingrese nota uno: 2\n",
            "ingrese nota dos: 3\n",
            "ingrese nota tres: 4\n",
            "la nota definitiva es: 3.3\n"
          ]
        }
      ]
    },
    {
      "cell_type": "code",
      "source": [
        "#5. lea la distancia en km recorrida por un auto, el tiempo en horas, en que la recorrio y calcule.\n",
        "# La velocidad a la cual se desplazaba el auto (V=D/T)\n",
        "\n",
        "distancia=float(input(\"Ingrese la distancia recorrida en km: \"))\n",
        "tiempo=float(input(\"Ingrese el tiempo en horas: \"))\n",
        "\n",
        "#Proceso\n",
        "velocidad=distancia/tiempo\n",
        "\n",
        "#salida\n",
        "print(f\"la velocidad a la que se desplazó es: {velocidad} km/h\")\n"
      ],
      "metadata": {
        "colab": {
          "base_uri": "https://localhost:8080/"
        },
        "id": "y69qt8vt4nLJ",
        "outputId": "8ef70594-549c-4976-e3b2-f56bc8d8693a"
      },
      "execution_count": null,
      "outputs": [
        {
          "output_type": "stream",
          "name": "stdout",
          "text": [
            "Ingrese la distancia recorrida en km: 2000\n",
            "Ingrese el tiempo en horas: 4\n",
            "la velocidad a la que se desplazó es: 500.0 km/h\n"
          ]
        }
      ]
    },
    {
      "cell_type": "code",
      "source": [
        "from os import name\n",
        "#9 Un vendedor recibe un sueldo base mas el 10% extra por comisión de sus ventas.\n",
        "# Desea saber cuanto dinero obtendrá por concepto de comisiones por las tres ventas que realiza en el mes y\n",
        "# total que recibe\n",
        "\n",
        "sueldo_base=float(input(\"ingrese sueldo base: \"))\n",
        "venta1=float(input(\"ingrese valor venta1: \"))\n",
        "venta2=float(input(\"ingrese valor venta2: \"))\n",
        "venta3=float(input(\"ingrese valor venta3: \"))\n",
        "\n",
        "#Proceso\n",
        "comision = (venta1+venta2+venta3)*0.1\n",
        "total_sueldo = sueldo_base + comision\n",
        "\n",
        "#Salida\n",
        "print(f\"el total de la comisión es: {comision}\")\n",
        "print(f\"el total del sueldo es: {total_sueldo}\")\n"
      ],
      "metadata": {
        "colab": {
          "base_uri": "https://localhost:8080/"
        },
        "id": "D0HQhr286S5l",
        "outputId": "8dc97f45-b9e8-4cce-d7c7-90d34d00277a"
      },
      "execution_count": null,
      "outputs": [
        {
          "output_type": "stream",
          "name": "stdout",
          "text": [
            "ingrese sueldo base: 1000\n",
            "ingrese valor venta1: 100\n",
            "ingrese valor venta2: 100\n",
            "ingrese valor venta3: 100\n",
            "el total de la comisión es: 30.0\n",
            "el total del sueldo es: 1030.0\n"
          ]
        }
      ]
    },
    {
      "cell_type": "code",
      "source": [
        "#6 Lea la cantidad de dinero correspondiente a una compra y calcule el valor del IVA y el valor total de la factura.\n",
        "#Se autoriza un descuento del 10% antes del IVA\n",
        "\n",
        "venta=float(input(\"ingrese el valor de la compra: \"))\n",
        "autorizacion=input(\"se autoriza el descuento, ingrese si o no: \")\n",
        "iva=venta*0.19\n",
        "\n",
        "if (autorizacion==\"si\"):\n",
        "  descuento=venta*0.1\n",
        "  iva=(venta-descuento)*0.19\n",
        "  total=venta+iva\n",
        "else:\n",
        "  descuento=0\n",
        "  iva=venta*0.19\n",
        "  total=venta+iva\n",
        "\n",
        "#Salida\n",
        "print(f\"el valor del descuento es: {descuento}\")\n",
        "print(f\"el valor del IVA es: {iva}\")\n",
        "print(f\"el valor total de la factura es: {total}\")\n"
      ],
      "metadata": {
        "colab": {
          "base_uri": "https://localhost:8080/"
        },
        "id": "x6cJociV9YM6",
        "outputId": "032502cc-f41f-4520-9090-e7cd182eb02f"
      },
      "execution_count": null,
      "outputs": [
        {
          "output_type": "stream",
          "name": "stdout",
          "text": [
            "ingrese el valor de la compra: 50000\n",
            "se autoriza el descuento, ingrese si o no: no\n",
            "el valor del descuento es: 0\n",
            "el valor del IVA es: 9500.0\n",
            "el valor total de la factura es: 59500.0\n"
          ]
        }
      ]
    },
    {
      "cell_type": "code",
      "source": [
        "#7 dada una cantidad de tiempo medida en horas, minutos y segundos, #diga a cuantos segundo equivale:\n",
        "\n",
        "\n",
        "#Entrada\n",
        "horas=float(input(\"Ingrese la cantidad de tiempo en horas: \"))\n",
        "minutos=float(input(\"Ingrese la cantidad de tiempo en minutos: \"))\n",
        "segundos=float(input(\"Ingrese la cantidad de tiempo en segundos: \"))\n",
        "\n",
        "#Proceso\n",
        "horas_a_segundos=horas*3600\n",
        "minutos_a_segundos=minutos*60\n",
        "total_segundos=horas_a_segundos+minutos_a_segundos+segundos\n",
        "\n",
        "#Salida\n",
        "print(f\"el tiempo en segundos es: {total_segundos}\")\n",
        "\n",
        "\n"
      ],
      "metadata": {
        "colab": {
          "base_uri": "https://localhost:8080/"
        },
        "id": "zRVTPfKlCLQh",
        "outputId": "a11036a6-1f5c-43a3-a397-6e018f78f1b5"
      },
      "execution_count": null,
      "outputs": [
        {
          "output_type": "stream",
          "name": "stdout",
          "text": [
            "Ingrese la cantidad de tiempo en horas: 2\n",
            "Ingrese la cantidad de tiempo en minutos: 2\n",
            "Ingrese la cantidad de tiempo en segundos: 2\n",
            "el tiempo en segundos es: 7322.0\n"
          ]
        }
      ]
    },
    {
      "cell_type": "code",
      "source": [
        "#8 Suponga que un individuo desea invertir su capital en un banco y desea saber cuanto dindero ganará despues de # un mes si el banco paga a razón de un 2% mensual\n",
        "\n",
        "#Entrada\n",
        "capital=float(input(\"Ingrese el capital invertido: \"))\n",
        "interes=0.02\n",
        "\n",
        "#Proceso\n",
        "bancopagara=capital+capital*interes\n",
        "\n",
        "#Salida\n",
        "print(f\"el capital obtenido por el banco es: {bancopagara}\")\n",
        "\n"
      ],
      "metadata": {
        "colab": {
          "base_uri": "https://localhost:8080/"
        },
        "id": "9PmTAL8CbbRq",
        "outputId": "8e2fce3d-7ec3-4398-a02f-43cfd207dca0"
      },
      "execution_count": null,
      "outputs": [
        {
          "output_type": "stream",
          "name": "stdout",
          "text": [
            "Ingrese el capital invertido: 100000\n",
            "el capital obtenido por el banco es: 102000.0\n"
          ]
        }
      ]
    },
    {
      "cell_type": "code",
      "source": [
        "#10 una tienda ofece un descuento del 15% sibre el total de la compra, cuanto es el valor a pagar.\n",
        "\n",
        "#Entrada\n",
        "compra=float(input(\"Ingrese el valor de la compra: \"))\n",
        "\n",
        "#Proceso\n",
        "descuento=compra*0.15\n",
        "valor_pagar=compra-descuento\n",
        "\n",
        "#Salida\n",
        "print(f\"el valor a pagar es: {valor_pagar}\")\n"
      ],
      "metadata": {
        "colab": {
          "base_uri": "https://localhost:8080/"
        },
        "id": "zHjE-2B3eM6y",
        "outputId": "51189ad8-30fa-47e5-9039-61ebad8b12d7"
      },
      "execution_count": null,
      "outputs": [
        {
          "output_type": "stream",
          "name": "stdout",
          "text": [
            "Ingrese el valor de la compra: 10000\n",
            "el valor a pagar es: 8500.0\n"
          ]
        }
      ]
    },
    {
      "cell_type": "code",
      "source": [
        "#11 Un alumno desea saber cual es su calificación final en la materia de algortitmo. con los siguientes porcentajes:\n",
        "# 55% del promedio de sus tres calificaciones parciales.\n",
        "# 30% del examen final. y\n",
        "# 15% el trabajo final.\n",
        "\n",
        "#Entrada\n",
        "n1=float(input(\"Ingrese la nota del primer parcial: \"))\n",
        "n2=float(input(\"Ingrese la nota del segundo parcial: \"))\n",
        "n3=float(input(\"Ingrese la nota del tercer parcial: \"))\n",
        "examen=float(input(\"Ingrese la nota del examen final: \"))\n",
        "trabajo=float(input(\"Ingrese la nota del trabajo final: \"))\n",
        "\n",
        "#Proceso\n",
        "promedio_parciales=(n1+n2+n3)/3\n",
        "calificacion_final=(promedio_parciales*0.55)+(examen*0.3)+(trabajo*0.15)\n",
        "\n",
        "#Salida\n",
        "print(f\"la calificación promedio parcial: {promedio_parciales}\")\n",
        "print(f\"la calificación final es: {calificacion_final}\")"
      ],
      "metadata": {
        "colab": {
          "base_uri": "https://localhost:8080/"
        },
        "id": "5zCZiIxbe1bu",
        "outputId": "2d9beba0-cf72-4ac8-d196-46155afecc5c"
      },
      "execution_count": null,
      "outputs": [
        {
          "output_type": "stream",
          "name": "stdout",
          "text": [
            "Ingrese la nota del primer parcial: 2\n",
            "Ingrese la nota del segundo parcial: 3\n",
            "Ingrese la nota del tercer parcial: 4\n",
            "Ingrese la nota del examen final: 5\n",
            "Ingrese la nota del trabajo final: 3\n",
            "la calificación promedio: 3.0\n",
            "la calificación final es: 3.6000000000000005\n"
          ]
        }
      ]
    },
    {
      "cell_type": "code",
      "source": [
        "#17 Desarrollar un algoritmo que permita generar la colilla de pago de los empleados de la empresa. la colilla de pago tendra:\n",
        "#El salario del empleado\n",
        "#El valor de ahorro mensual programado\n",
        "#la suma a deducir por aporte a salud (EPS) 12.5%\n",
        "# Valor a deducir por pensiones 16%\n",
        "# Total a recibir\n",
        "# Toda la información que debe proveer el usuario del progrma es el salario del empelado y el valor de ahorro mensual programado. El programa debe calcular y devolver el resto de los datos.\n",
        "\n",
        "#Entrada\n",
        "salario=float(input(\"Ingrese el salario del empleado:$ \"))\n",
        "ahorro=float(input(\"Ingrese el valor a deducir por ahorro voluntario:$ \"))\n",
        "\n",
        "#Proceso\n",
        "if ahorro>salario:\n",
        "  print(\"Error\")\n",
        "else:\n",
        "  eps=salario*0.125\n",
        "  pension=salario*0.16\n",
        "  total=salario-ahorro-eps-pension\n",
        "\n",
        "if total<0:\n",
        "  print(\"No puede ahorrar tanto\")\n",
        "else:\n",
        "  print(\"gracias por ahorrar para su futuro\")\n",
        "\n",
        "#Salida\n",
        "print(f\"el salario base del empleado es: ${salario}\")\n",
        "print(f\"el valor a deducir por ahorro es: ${ahorro}\")\n",
        "print(f\"el valor a deducir por EPS es: ${eps}\")\n",
        "print(f\"el valor a deducir por pensiones es: ${pension}\")\n",
        "print(f\"el total a recibir es: ${total}\")\n",
        "\n",
        "\n"
      ],
      "metadata": {
        "colab": {
          "base_uri": "https://localhost:8080/"
        },
        "id": "fUTmaYiFjRF0",
        "outputId": "b60fce7c-d625-4172-850b-3b47fcbfb067"
      },
      "execution_count": null,
      "outputs": [
        {
          "output_type": "stream",
          "name": "stdout",
          "text": [
            "Ingrese el salario del empleado:$ 1000000\n",
            "Ingrese el valor a deducir por ahorro voluntario:$ 2000000\n",
            "Error\n",
            "gracias por ahorrar para su futuro\n",
            "el salario base del empleado es: $1000000.0\n",
            "el valor a deducir por ahorro es: $2000000.0\n",
            "el valor a deducir por EPS es: $125000.0\n",
            "el valor a deducir por pensiones es: $160000.0\n",
            "el total a recibir es: $215000.0\n"
          ]
        }
      ]
    },
    {
      "cell_type": "code",
      "source": [
        "#18 En una universidad los estudiantes pueden pagar el valor de la matricula en cuatro cuotas.\n",
        "# de la siguiente forma\n",
        "# primera cuota 40%\n",
        "# Segunda cuota 25%\n",
        "# Tercera cuota 20%\n",
        "# Cuarta cuota 15%\n",
        "\n",
        "# diga el valor a pagar en cada cuota.\n",
        "\n",
        "#Entrada\n",
        "matricula=float(input(\"Ingrese el valor de la matricula: \"))\n",
        "\n",
        "#Proceso\n",
        "cuota1=matricula*0.4\n",
        "cuota2=matricula*0.25\n",
        "cuota3=matricula*0.2\n",
        "cuota4=matricula*0.15\n",
        "\n",
        "#Salida\n",
        "print(f\"el valor de la primera cuota es: {cuota1}\")\n",
        "print(f\"el valor de la segunda cuota es: {cuota2}\")\n",
        "print(f\"el valor de la tercera cuota es: {cuota3}\")\n",
        "print(f\"el valor de la cuarta cuota es: {cuota4}\")\n"
      ],
      "metadata": {
        "colab": {
          "base_uri": "https://localhost:8080/"
        },
        "id": "f__4LNxI0KaW",
        "outputId": "c9451c33-ed3f-4ddb-e947-e9c1e4ed5de9"
      },
      "execution_count": null,
      "outputs": [
        {
          "output_type": "stream",
          "name": "stdout",
          "text": [
            "Ingrese el valor de la matricula: 10000\n",
            "el valor de la primera cuota es: 4000.0\n",
            "el valor de la segunda cuota es: 2500.0\n",
            "el valor de la tercera cuota es: 2000.0\n",
            "el valor de la cuarta cuota es: 1500.0\n"
          ]
        }
      ]
    },
    {
      "cell_type": "code",
      "source": [
        "#13 Dadas las horas trabajadas de una persona y el valor por hora: calcula su salario e imprimirlo.\n",
        "\n",
        "#Entrada\n",
        "horas=float(input(\"Ingrese las horas trabajadas: \"))\n",
        "valor_hora=float(input(\"Ingrese el valor por hora: \"))\n",
        "\n",
        "#Proceso\n",
        "salario=horas*valor_hora\n",
        "\n",
        "#Salida\n",
        "print(f\"el numero de horas trabajadas es: {horas}\")\n",
        "print(f\"el valor por hora es: {valor_hora}\")\n",
        "print(f\"el salario es: {salario}\")\n"
      ],
      "metadata": {
        "colab": {
          "base_uri": "https://localhost:8080/"
        },
        "id": "XCJXbqEd2dPK",
        "outputId": "dbecc5b6-05be-4087-cff0-e23fd7df250c"
      },
      "execution_count": null,
      "outputs": [
        {
          "output_type": "stream",
          "name": "stdout",
          "text": [
            "Ingrese las horas trabajadas: 100\n",
            "Ingrese el valor por hora: 5\n",
            "el numero de horas trabajadas es: 100.0\n",
            "el valor por hora es: 5.0\n",
            "el salario es: 500.0\n"
          ]
        }
      ]
    },
    {
      "cell_type": "markdown",
      "source": [],
      "metadata": {
        "id": "x-i0clnm4gX_"
      }
    }
  ]
}